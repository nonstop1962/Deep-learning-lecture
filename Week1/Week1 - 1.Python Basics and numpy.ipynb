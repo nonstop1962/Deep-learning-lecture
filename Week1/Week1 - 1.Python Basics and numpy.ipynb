{
 "cells": [
  {
   "cell_type": "markdown",
   "metadata": {},
   "source": [
    "# 실습의 목표\n",
    "1. Python을 기본적으로 어떻게 사용하는지 학습\n",
    "2. Numpy 소개\n",
    "3. Logistic regression을 사용하여 고양이와 강아지를 구분하는 알고리즘 구현"
   ]
  },
  {
   "cell_type": "markdown",
   "metadata": {},
   "source": [
    "# Jupyter notebook\n",
    "* 실습에서 사용할 툴은 `jupyter notebook`이라는 툴로 PC에 설치되어 있는 python을 웹에서 쉽고 직관적으로 사용할 수 있도록 만들어놓은 것임.\n",
    "* 화면에 보이는 각 블록을 `Cell`이라고 하며 cell 내부에 코드를 작성하거나 문서를 작성할 수 있음\n",
    "* Cell 내부에 python 코드를 작성 후 키보드의 `ctrl + enter` 혹은 `shift + enter`를 누르거나 위의 툴바에 있는 `Run` 버튼을 클릭하면 해당 코드가 실행됨"
   ]
  },
  {
   "cell_type": "markdown",
   "metadata": {},
   "source": [
    "# **1 - Python 기본**"
   ]
  },
  {
   "cell_type": "markdown",
   "metadata": {},
   "source": [
    "## **0. Python에서 특정 변수에 있는 값을 보고싶을 때 - Print**"
   ]
  },
  {
   "cell_type": "code",
   "execution_count": 1,
   "metadata": {},
   "outputs": [
    {
     "name": "stdout",
     "output_type": "stream",
     "text": [
      "x:  Hello World\n"
     ]
    }
   ],
   "source": [
    "x = \"Hello World\" # x 변수에 Hello World라는 string을 넣음\n",
    "print(\"x: \", x) "
   ]
  },
  {
   "cell_type": "markdown",
   "metadata": {},
   "source": [
    "## **1-1. Python의 기본 자료형 종류**"
   ]
  },
  {
   "cell_type": "markdown",
   "metadata": {},
   "source": [
    "### Nuimbers: 연산 가능한 값."
   ]
  },
  {
   "cell_type": "code",
   "execution_count": 2,
   "metadata": {},
   "outputs": [
    {
     "name": "stdout",
     "output_type": "stream",
     "text": [
      "<class 'int'>\n",
      "3\n",
      "4\n",
      "2\n",
      "6\n",
      "9\n",
      "4\n",
      "8\n",
      "<class 'float'>\n",
      "2.5 3.5 5.0 6.25\n"
     ]
    }
   ],
   "source": [
    "x = 3\n",
    "print(type(x)) # Prints \"<class 'int'>\"\n",
    "print(x)       # Prints \"3\"\n",
    "print(x + 1)   # Addition; prints \"4\"\n",
    "print(x - 1)   # Subtraction; prints \"2\"\n",
    "print(x * 2)   # Multiplication; prints \"6\"\n",
    "print(x ** 2)  # Exponentiation; prints \"9\"\n",
    "x += 1\n",
    "print(x)  # Prints \"4\"\n",
    "x *= 2\n",
    "print(x)  # Prints \"8\"\n",
    "y = 2.5\n",
    "print(type(y)) # Prints \"<class 'float'>\"\n",
    "print(y, y + 1, y * 2, y ** 2) # Prints \"2.5 3.5 5.0 6.25\""
   ]
  },
  {
   "cell_type": "markdown",
   "metadata": {},
   "source": [
    "### Booleans: 주어진 조건이 참인지 거짓인지를 나타내는 값"
   ]
  },
  {
   "cell_type": "code",
   "execution_count": 3,
   "metadata": {},
   "outputs": [
    {
     "name": "stdout",
     "output_type": "stream",
     "text": [
      "<class 'bool'>\n",
      "False\n",
      "True\n",
      "False\n",
      "True\n"
     ]
    }
   ],
   "source": [
    "t = True\n",
    "f = False\n",
    "print(type(t)) # Prints \"<class 'bool'>\"\n",
    "print(t and f) # Logical AND; prints \"False\"\n",
    "print(t or f)  # Logical OR; prints \"True\"\n",
    "print(not t)   # Logical NOT; prints \"False\"\n",
    "print(t != f)  # Logical XOR; prints \"True\""
   ]
  },
  {
   "cell_type": "markdown",
   "metadata": {},
   "source": [
    "### Strings: 숫자가 아닌 문구를 나타내는 값. 앞뒤를 따옴표로 묶어줌"
   ]
  },
  {
   "cell_type": "code",
   "execution_count": 4,
   "metadata": {},
   "outputs": [
    {
     "name": "stdout",
     "output_type": "stream",
     "text": [
      "hello\n",
      "5\n",
      "hello world\n",
      "hello world 12\n"
     ]
    }
   ],
   "source": [
    "hello = 'hello'    # String literals can use single quotes\n",
    "world = \"world\"    # or double quotes; it does not matter.\n",
    "print(hello)       # Prints \"hello\"\n",
    "print(len(hello))  # String length; prints \"5\"\n",
    "hw = hello + ' ' + world  # String concatenation\n",
    "print(hw)  # prints \"hello world\"\n",
    "hw12 = '%s %s %d' % (hello, world, 12)  # sprintf style string formatting\n",
    "print(hw12)  # prints \"hello world 12\""
   ]
  },
  {
   "cell_type": "markdown",
   "metadata": {},
   "source": [
    "## **1-2. Python의 기본 Container: List**"
   ]
  },
  {
   "cell_type": "markdown",
   "metadata": {},
   "source": [
    "### List: 여러 값들을 저장하고 있는 것. 대괄호 ([])로 묶어줌"
   ]
  },
  {
   "cell_type": "code",
   "execution_count": 5,
   "metadata": {},
   "outputs": [
    {
     "name": "stdout",
     "output_type": "stream",
     "text": [
      "[3, 1, 2] 2\n",
      "2\n",
      "[3, 1, 'foo']\n",
      "[3, 1, 'foo', 'bar']\n",
      "bar [3, 1, 'foo']\n"
     ]
    }
   ],
   "source": [
    "xs = [3, 1, 2]    # Create a list\n",
    "print(xs, xs[2])  # Prints \"[3, 1, 2] 2\"\n",
    "print(xs[-1])     # Negative indices count from the end of the list; prints \"2\"\n",
    "xs[2] = 'foo'     # Lists can contain elements of different types\n",
    "print(xs)         # Prints \"[3, 1, 'foo']\"\n",
    "xs.append('bar')  # Add a new element to the end of the list\n",
    "print(xs)         # Prints \"[3, 1, 'foo', 'bar']\"\n",
    "x = xs.pop()      # Remove and return the last element of the list\n",
    "print(x, xs)      # Prints \"bar [3, 1, 'foo']\"\n"
   ]
  },
  {
   "cell_type": "markdown",
   "metadata": {},
   "source": [
    "### List는 특정 범위만 추출할 수 있음"
   ]
  },
  {
   "cell_type": "code",
   "execution_count": 6,
   "metadata": {},
   "outputs": [
    {
     "name": "stdout",
     "output_type": "stream",
     "text": [
      "[3, 1, 'foo']\n",
      "[3, 1, 'foo']\n",
      "[3, 1]\n",
      "[1, 'foo']\n"
     ]
    }
   ],
   "source": [
    "print(xs)\n",
    "print(xs[:])\n",
    "print(xs[:2])\n",
    "print(xs[1:3])"
   ]
  },
  {
   "cell_type": "markdown",
   "metadata": {},
   "source": [
    "## **1-3 Python의 loop: for문 (특정 조건만큼 반복해서 작업을 수행하는 것)**"
   ]
  },
  {
   "cell_type": "markdown",
   "metadata": {},
   "source": [
    "### 기본적인 사용법"
   ]
  },
  {
   "cell_type": "code",
   "execution_count": 7,
   "metadata": {},
   "outputs": [
    {
     "name": "stdout",
     "output_type": "stream",
     "text": [
      "0\n",
      "1\n",
      "2\n",
      "3\n",
      "4\n",
      "5\n",
      "6\n",
      "7\n",
      "8\n",
      "9\n"
     ]
    }
   ],
   "source": [
    "for i in range(10):\n",
    "    print(i)"
   ]
  },
  {
   "cell_type": "markdown",
   "metadata": {},
   "source": [
    "### List에 있는 요소들을 for문으로 접근 가능"
   ]
  },
  {
   "cell_type": "code",
   "execution_count": 8,
   "metadata": {},
   "outputs": [
    {
     "name": "stdout",
     "output_type": "stream",
     "text": [
      "2\n",
      "5\n",
      "6\n",
      "??\n",
      "!!\n",
      "True\n",
      "False\n"
     ]
    }
   ],
   "source": [
    "sample_list= [2,5,6,'??','!!',True, False]\n",
    "for i in sample_list:\n",
    "    print(i)"
   ]
  },
  {
   "cell_type": "markdown",
   "metadata": {},
   "source": [
    "## **1-4 Python의 function: def**\n",
    "<img src=\"Figure/function.png\" style=\"width:700px;height:150px;\">\n"
   ]
  },
  {
   "cell_type": "markdown",
   "metadata": {},
   "source": [
    "### 예시 1: Input의 음, 양을 알려주는 function"
   ]
  },
  {
   "cell_type": "code",
   "execution_count": 9,
   "metadata": {},
   "outputs": [],
   "source": [
    "def sign(x):\n",
    "    if x > 0:\n",
    "        return 'positive'\n",
    "    elif x < 0:\n",
    "        return 'negative'\n",
    "    else:\n",
    "        return 'zero'"
   ]
  },
  {
   "cell_type": "code",
   "execution_count": 10,
   "metadata": {},
   "outputs": [
    {
     "name": "stdout",
     "output_type": "stream",
     "text": [
      "Current x:  -1\n",
      "부호:  negative\n",
      "Current x:  0\n",
      "부호:  zero\n",
      "Current x:  1\n",
      "부호:  positive\n"
     ]
    }
   ],
   "source": [
    "for x in [-1, 0, 1]:\n",
    "    print('Current x: ', x)\n",
    "    print('부호: ', sign(x))"
   ]
  },
  {
   "cell_type": "markdown",
   "metadata": {},
   "source": [
    "### 예시 2: 특정 조건에 따라 다른 print를 하는 함수"
   ]
  },
  {
   "cell_type": "code",
   "execution_count": 11,
   "metadata": {},
   "outputs": [],
   "source": [
    "def hello(name, loud=False):\n",
    "    if loud:\n",
    "        print('HELLO!!!, %s!!!' % name.upper())\n",
    "    else:\n",
    "        print('Hello, %s' % name)"
   ]
  },
  {
   "cell_type": "code",
   "execution_count": 12,
   "metadata": {},
   "outputs": [
    {
     "name": "stdout",
     "output_type": "stream",
     "text": [
      "Hello, Bob\n",
      "HELLO!!!, FRED!!!\n"
     ]
    }
   ],
   "source": [
    "hello('Bob') # Prints \"Hello, Bob\"\n",
    "hello('Fred', loud=True)  # Prints \"HELLO, FRED!\""
   ]
  },
  {
   "cell_type": "markdown",
   "metadata": {},
   "source": [
    "# **2 - Numpy**\n",
    "* 각종 수식들을 간편하게 사용할 수 있는 python core library\n",
    "* Matrix 연산을 손쉽게 할 수 있는 것이 가장 큰 장점"
   ]
  },
  {
   "cell_type": "markdown",
   "metadata": {},
   "source": [
    "## 0. Import numpy library\n",
    "* python의 가장 큰 장점은 수많은 라이브러리를 쉽게 사용할 수 있다는 점.\n",
    "* `import` 키워드를 이용"
   ]
  },
  {
   "cell_type": "code",
   "execution_count": 13,
   "metadata": {},
   "outputs": [],
   "source": [
    "import numpy as np # numpy library를 import 하는데 이걸 np라는 단축어로 사용하겠다. "
   ]
  },
  {
   "cell_type": "code",
   "execution_count": 14,
   "metadata": {},
   "outputs": [
    {
     "name": "stdout",
     "output_type": "stream",
     "text": [
      "[1 2 3]\n",
      "zeros: \n",
      "[[0. 0. 0.]\n",
      " [0. 0. 0.]\n",
      " [0. 0. 0.]]\n",
      "ones: \n",
      "[[1. 1. 1.]\n",
      " [1. 1. 1.]\n",
      " [1. 1. 1.]]\n",
      "random matrix: \n",
      "[[0.99641734 0.69088239 0.15896724]\n",
      " [0.64253289 0.83500754 0.67618213]\n",
      " [0.21416031 0.49799771 0.97358455]]\n"
     ]
    }
   ],
   "source": [
    "x = np.array([1, 2, 3])\n",
    "print(x)\n",
    "x = np.zeros((3,3))\n",
    "print('zeros: ')\n",
    "print(x)\n",
    "x = np.ones((3,3))\n",
    "print('ones: ')\n",
    "print(x)\n",
    "x = np.random.random((3,3))\n",
    "print('random matrix: ')\n",
    "print(x)\n"
   ]
  },
  {
   "cell_type": "markdown",
   "metadata": {},
   "source": [
    "## 1. Sigmoid using numpy\n",
    "$f(x) =  \\frac{1}{1+e^{-x}}$\n",
    "<img src=\"Figure/sigmoid.png\">"
   ]
  },
  {
   "cell_type": "markdown",
   "metadata": {},
   "source": [
    "### Exponential ($e^{x}$) using numpy - np.exp(x)"
   ]
  },
  {
   "cell_type": "code",
   "execution_count": 15,
   "metadata": {},
   "outputs": [
    {
     "name": "stdout",
     "output_type": "stream",
     "text": [
      "x =  1\n",
      "e^{x} =  2.718281828459045\n",
      "x =  [[1. 1. 1.]\n",
      " [1. 1. 1.]\n",
      " [1. 1. 1.]]\n",
      "e^{x} =  [[2.71828183 2.71828183 2.71828183]\n",
      " [2.71828183 2.71828183 2.71828183]\n",
      " [2.71828183 2.71828183 2.71828183]]\n"
     ]
    }
   ],
   "source": [
    "# Scalar (one number)\n",
    "x = 1\n",
    "exponential = np.exp(x)\n",
    "print('x = ', x)\n",
    "print(\"e^{x} = \", exponential)\n",
    "\n",
    "# matrix \n",
    "x = np.ones((3,3))\n",
    "exponential = np.exp(x)\n",
    "print('x = ', x)\n",
    "print(\"e^{x} = \", exponential)"
   ]
  },
  {
   "cell_type": "markdown",
   "metadata": {},
   "source": [
    "### Implement sigmoid function using numpy"
   ]
  },
  {
   "cell_type": "code",
   "execution_count": 16,
   "metadata": {},
   "outputs": [],
   "source": [
    "def sigmoid_numpy(x):\n",
    "    result = 1 / (1 + np.exp(-x))\n",
    "    return result"
   ]
  },
  {
   "cell_type": "code",
   "execution_count": 17,
   "metadata": {},
   "outputs": [
    {
     "name": "stdout",
     "output_type": "stream",
     "text": [
      "x =  1\n",
      "sigmoid(x) =  0.7310585786300049\n",
      "x =  [[0.9364322  0.38852478 0.32031375]\n",
      " [0.2149859  0.38957947 0.02260094]\n",
      " [0.40695714 0.32551722 0.02865901]]\n",
      "sigmoid(x) =  [[0.71837841 0.59592752 0.57940071]\n",
      " [0.55354042 0.59618146 0.50564999]\n",
      " [0.60035803 0.58066825 0.50716426]]\n"
     ]
    }
   ],
   "source": [
    "# Scalar (one number)\n",
    "x = 1\n",
    "sigmoid = sigmoid_numpy(x)\n",
    "print('x = ', x)\n",
    "print(\"sigmoid(x) = \", sigmoid)\n",
    "\n",
    "# matrix \n",
    "x = np.random.random((3,3))\n",
    "sigmoid = sigmoid_numpy(x)\n",
    "print('x = ', x)\n",
    "print(\"sigmoid(x) = \", sigmoid)"
   ]
  },
  {
   "cell_type": "markdown",
   "metadata": {},
   "source": [
    "### 구현한 sigmoid function을 plot해보기"
   ]
  },
  {
   "cell_type": "code",
   "execution_count": 18,
   "metadata": {},
   "outputs": [
    {
     "data": {
      "image/png": "[encoded data removed]",
      "text/plain": [
       "<matplotlib.figure.Figure at 0x7f2c347f2358>"
      ]
     },
     "metadata": {},
     "output_type": "display_data"
    }
   ],
   "source": [
    "import matplotlib.pyplot as plt\n",
    "%matplotlib inline\n",
    "\n",
    "x = np.linspace(-10,10)\n",
    "y = sigmoid_numpy(x)\n",
    "plt.figure()\n",
    "plt.xlabel('x')\n",
    "plt.ylabel('sigmoid(x)')\n",
    "plt.plot(x,y)\n",
    "plt.show()"
   ]
  },
  {
   "cell_type": "code",
   "execution_count": null,
   "metadata": {},
   "outputs": [],
   "source": []
  }
 ],
 "metadata": {
  "kernelspec": {
   "display_name": "Python 3",
   "language": "python",
   "name": "python3"
  },
  "language_info": {
   "codemirror_mode": {
    "name": "ipython",
    "version": 3
   },
   "file_extension": ".py",
   "mimetype": "text/x-python",
   "name": "python",
   "nbconvert_exporter": "python",
   "pygments_lexer": "ipython3",
   "version": "3.4.3"
  }
 },
 "nbformat": 4,
 "nbformat_minor": 2
}
